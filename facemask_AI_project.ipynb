{
  "nbformat": 4,
  "nbformat_minor": 0,
  "metadata": {
    "colab": {
      "provenance": []
    },
    "kernelspec": {
      "name": "python3",
      "display_name": "Python 3"
    },
    "language_info": {
      "name": "python"
    }
  },
  "cells": [
    {
      "cell_type": "code",
      "execution_count": null,
      "metadata": {
        "id": "sNzAT0H6XaDW"
      },
      "outputs": [],
      "source": [
        "import cv2\n",
        "import numpy as np\n"
      ]
    },
    {
      "cell_type": "code",
      "source": [
        "from google.colab import drive\n",
        "drive.mount('/content/drive/')"
      ],
      "metadata": {
        "colab": {
          "base_uri": "https://localhost:8080/"
        },
        "id": "MhcPbXT9Xj4x",
        "outputId": "654d9085-a2ef-4538-b5ab-f376177ac906"
      },
      "execution_count": null,
      "outputs": [
        {
          "output_type": "stream",
          "name": "stdout",
          "text": [
            "Drive already mounted at /content/drive/; to attempt to forcibly remount, call drive.mount(\"/content/drive/\", force_remount=True).\n"
          ]
        }
      ]
    },
    {
      "cell_type": "code",
      "source": [
        "import tensorflow as tf\n",
        "print(tf.__version__)"
      ],
      "metadata": {
        "colab": {
          "base_uri": "https://localhost:8080/"
        },
        "id": "volx6m3mXoHd",
        "outputId": "4c0d21b7-6974-4705-b480-94466d05ddfc"
      },
      "execution_count": null,
      "outputs": [
        {
          "output_type": "stream",
          "name": "stdout",
          "text": [
            "2.15.0\n"
          ]
        }
      ]
    },
    {
      "cell_type": "code",
      "source": [
        "train_dir = \"/content/drive/MyDrive/face mask detection/Train\"\n",
        "test_dir = \"/content/drive/MyDrive/face mask detection/Test\"\n",
        "valid_dir = \"/content/drive/MyDrive/face mask detection/Validation\""
      ],
      "metadata": {
        "id": "IcQ8ytC1XuTR"
      },
      "execution_count": null,
      "outputs": []
    },
    {
      "cell_type": "code",
      "source": [
        "from tensorflow.keras.preprocessing.image import ImageDataGenerator, array_to_img, img_to_array, load_img"
      ],
      "metadata": {
        "id": "rohMXsjJXzXr"
      },
      "execution_count": null,
      "outputs": []
    },
    {
      "cell_type": "code",
      "source": [
        "target_size=(96,96)\n",
        "batch_size = 24"
      ],
      "metadata": {
        "id": "14lyPKLKX1dl"
      },
      "execution_count": null,
      "outputs": []
    },
    {
      "cell_type": "code",
      "source": [
        "train_datagen = ImageDataGenerator(\n",
        "    rescale=1./255,\n",
        "    rotation_range = 40,\n",
        "    width_shift_range=0.2,\n",
        "    height_shift_range=0.2,\n",
        "    shear_range=0.2,\n",
        "    zoom_range=0.2,\n",
        "    horizontal_flip=True,\n",
        "    vertical_flip=True)\n",
        "\n",
        "train_generator = train_datagen.flow_from_directory(\n",
        "    train_dir,\n",
        "    target_size=target_size,\n",
        "    batch_size=batch_size,\n",
        "    color_mode='rgb',\n",
        "    shuffle=True,\n",
        "    seed=42,\n",
        "    class_mode='categorical')"
      ],
      "metadata": {
        "colab": {
          "base_uri": "https://localhost:8080/"
        },
        "id": "zf3fpFaRX4SM",
        "outputId": "d4dc2cce-33b1-4e0e-bb7a-30d2bee1062d"
      },
      "execution_count": null,
      "outputs": [
        {
          "output_type": "stream",
          "name": "stdout",
          "text": [
            "Found 10009 images belonging to 2 classes.\n"
          ]
        }
      ]
    },
    {
      "cell_type": "code",
      "source": [
        "valid_datagen = ImageDataGenerator(rescale=1./255)\n",
        "\n",
        "valid_generator = valid_datagen.flow_from_directory(\n",
        "    valid_dir,\n",
        "    target_size=target_size,\n",
        "    batch_size=batch_size,\n",
        "    color_mode='rgb',\n",
        "    shuffle=False,\n",
        "    class_mode='categorical'\n",
        ")"
      ],
      "metadata": {
        "colab": {
          "base_uri": "https://localhost:8080/"
        },
        "id": "X7zOMUsfX6rh",
        "outputId": "767a6feb-f227-41c1-9c56-7e694580b692"
      },
      "execution_count": null,
      "outputs": [
        {
          "output_type": "stream",
          "name": "stdout",
          "text": [
            "Found 800 images belonging to 2 classes.\n"
          ]
        }
      ]
    },
    {
      "cell_type": "code",
      "source": [
        "test_datagen = ImageDataGenerator(rescale= 1./255)\n",
        "\n",
        "test_generator = test_datagen.flow_from_directory(\n",
        "    test_dir,\n",
        "    target_size=target_size,\n",
        "    batch_size=batch_size,\n",
        "    color_mode='rgb',\n",
        "    shuffle=False,\n",
        "    class_mode='categorical'\n",
        ")"
      ],
      "metadata": {
        "colab": {
          "base_uri": "https://localhost:8080/"
        },
        "id": "R0fBbEAnX8oR",
        "outputId": "be2b4b9c-fe5b-4bfa-8e22-0be026da8f1e"
      },
      "execution_count": null,
      "outputs": [
        {
          "output_type": "stream",
          "name": "stdout",
          "text": [
            "Found 992 images belonging to 2 classes.\n"
          ]
        }
      ]
    },
    {
      "cell_type": "code",
      "source": [
        "from tensorflow.keras import models, layers\n",
        "from tensorflow.keras.regularizers import l2\n",
        "from tensorflow.keras.callbacks import ModelCheckpoint"
      ],
      "metadata": {
        "id": "bLyf0KxkX_84"
      },
      "execution_count": null,
      "outputs": []
    },
    {
      "cell_type": "code",
      "source": [
        "num_classes = 2 #With mask, Without mask\n",
        "input_shape = (96,96,3)"
      ],
      "metadata": {
        "id": "HGffBgEBYCZt"
      },
      "execution_count": null,
      "outputs": []
    },
    {
      "cell_type": "code",
      "source": [
        "model= models.Sequential()\n",
        "#1st layer\n",
        "model.add(layers.Conv2D(16,(3,3), activation='relu', padding='same', input_shape=input_shape))\n",
        "model.add(layers.MaxPool2D((2,2)))\n",
        "#2nd layer\n",
        "model.add(layers.Conv2D(32,(3,3), activation='relu', padding='same'))\n",
        "model.add(layers.MaxPool2D((2,2)))\n",
        "#3rd layer\n",
        "model.add(layers.Conv2D(64,(3,3), activation='relu', padding='same'))\n",
        "model.add(layers.MaxPool2D((2,2)))\n",
        "#4th layer\n",
        "model.add(layers.Conv2D(96,(3,3), activation='relu', padding='same'))\n",
        "model.add(layers.MaxPool2D((2,2)))\n",
        "#5th layer\n",
        "model.add(layers.Conv2D(128,(3,3), activation='relu', padding='same'))\n",
        "model.add(layers.MaxPool2D((2,2)))\n",
        "\n",
        "model.add(layers.Flatten())\n",
        "model.add(layers.Dense(1024))\n",
        "\n",
        "model.add(layers.Dense(64))\n",
        "\n",
        "model.add(layers.Dense(num_classes, activation='softmax'))\n",
        "model.summary()"
      ],
      "metadata": {
        "colab": {
          "base_uri": "https://localhost:8080/"
        },
        "id": "a5xB9vuNYF-D",
        "outputId": "e6af6d5b-874f-422e-98f2-d074c3984372"
      },
      "execution_count": null,
      "outputs": [
        {
          "output_type": "stream",
          "name": "stdout",
          "text": [
            "Model: \"sequential\"\n",
            "_________________________________________________________________\n",
            " Layer (type)                Output Shape              Param #   \n",
            "=================================================================\n",
            " conv2d (Conv2D)             (None, 96, 96, 16)        448       \n",
            "                                                                 \n",
            " max_pooling2d (MaxPooling2  (None, 48, 48, 16)        0         \n",
            " D)                                                              \n",
            "                                                                 \n",
            " conv2d_1 (Conv2D)           (None, 48, 48, 32)        4640      \n",
            "                                                                 \n",
            " max_pooling2d_1 (MaxPoolin  (None, 24, 24, 32)        0         \n",
            " g2D)                                                            \n",
            "                                                                 \n",
            " conv2d_2 (Conv2D)           (None, 24, 24, 64)        18496     \n",
            "                                                                 \n",
            " max_pooling2d_2 (MaxPoolin  (None, 12, 12, 64)        0         \n",
            " g2D)                                                            \n",
            "                                                                 \n",
            " conv2d_3 (Conv2D)           (None, 12, 12, 96)        55392     \n",
            "                                                                 \n",
            " max_pooling2d_3 (MaxPoolin  (None, 6, 6, 96)          0         \n",
            " g2D)                                                            \n",
            "                                                                 \n",
            " conv2d_4 (Conv2D)           (None, 6, 6, 128)         110720    \n",
            "                                                                 \n",
            " max_pooling2d_4 (MaxPoolin  (None, 3, 3, 128)         0         \n",
            " g2D)                                                            \n",
            "                                                                 \n",
            " flatten (Flatten)           (None, 1152)              0         \n",
            "                                                                 \n",
            " dense (Dense)               (None, 1024)              1180672   \n",
            "                                                                 \n",
            " dense_1 (Dense)             (None, 64)                65600     \n",
            "                                                                 \n",
            " dense_2 (Dense)             (None, 2)                 130       \n",
            "                                                                 \n",
            "=================================================================\n",
            "Total params: 1436098 (5.48 MB)\n",
            "Trainable params: 1436098 (5.48 MB)\n",
            "Non-trainable params: 0 (0.00 Byte)\n",
            "_________________________________________________________________\n"
          ]
        }
      ]
    },
    {
      "cell_type": "code",
      "source": [
        "model.compile(loss='categorical_crossentropy', optimizer='Adam', metrics=['accuracy'])"
      ],
      "metadata": {
        "id": "VQpHtEhKYH6n"
      },
      "execution_count": null,
      "outputs": []
    },
    {
      "cell_type": "code",
      "source": [
        "STEP_SIZE_TRAIN=train_generator.n//train_generator.batch_size\n",
        "STEP_SIZE_VALID=valid_generator.n//valid_generator.batch_size\n",
        "STEP_SIZE_TEST=test_generator.n//test_generator.batch_size\n",
        "num_epochs = 10\n"
      ],
      "metadata": {
        "id": "D6a7VAm-YcRq"
      },
      "execution_count": null,
      "outputs": []
    },
    {
      "cell_type": "code",
      "source": [
        "model.fit(train_generator, steps_per_epoch=STEP_SIZE_TRAIN, epochs=num_epochs, validation_data=valid_generator, validation_steps= STEP_SIZE_VALID)"
      ],
      "metadata": {
        "colab": {
          "base_uri": "https://localhost:8080/"
        },
        "id": "tSJTSSqgYoLJ",
        "outputId": "da868525-b8bb-4897-e879-19cfc6e326d1"
      },
      "execution_count": null,
      "outputs": [
        {
          "output_type": "stream",
          "name": "stdout",
          "text": [
            "Epoch 1/10\n",
            "417/417 [==============================] - 2596s 6s/step - loss: 0.3077 - accuracy: 0.8746 - val_loss: 0.1373 - val_accuracy: 0.9508\n",
            "Epoch 2/10\n",
            "417/417 [==============================] - 184s 441ms/step - loss: 0.2373 - accuracy: 0.9095 - val_loss: 0.1696 - val_accuracy: 0.9381\n",
            "Epoch 3/10\n",
            "417/417 [==============================] - 181s 434ms/step - loss: 0.2059 - accuracy: 0.9236 - val_loss: 0.1270 - val_accuracy: 0.9609\n",
            "Epoch 4/10\n",
            "417/417 [==============================] - 187s 448ms/step - loss: 0.1889 - accuracy: 0.9288 - val_loss: 0.1392 - val_accuracy: 0.9482\n",
            "Epoch 5/10\n",
            "417/417 [==============================] - 185s 443ms/step - loss: 0.1874 - accuracy: 0.9309 - val_loss: 0.0904 - val_accuracy: 0.9659\n",
            "Epoch 6/10\n",
            "417/417 [==============================] - 186s 446ms/step - loss: 0.1744 - accuracy: 0.9381 - val_loss: 0.1195 - val_accuracy: 0.9545\n",
            "Epoch 7/10\n",
            "417/417 [==============================] - 180s 431ms/step - loss: 0.1710 - accuracy: 0.9355 - val_loss: 0.0720 - val_accuracy: 0.9747\n",
            "Epoch 8/10\n",
            "417/417 [==============================] - 185s 444ms/step - loss: 0.1461 - accuracy: 0.9452 - val_loss: 0.0775 - val_accuracy: 0.9823\n",
            "Epoch 9/10\n",
            "417/417 [==============================] - 179s 430ms/step - loss: 0.1449 - accuracy: 0.9451 - val_loss: 0.0930 - val_accuracy: 0.9684\n",
            "Epoch 10/10\n",
            "417/417 [==============================] - 184s 441ms/step - loss: 0.1390 - accuracy: 0.9505 - val_loss: 0.0580 - val_accuracy: 0.9823\n"
          ]
        },
        {
          "output_type": "execute_result",
          "data": {
            "text/plain": [
              "<keras.src.callbacks.History at 0x7d4bcf66a620>"
            ]
          },
          "metadata": {},
          "execution_count": 17
        }
      ]
    },
    {
      "cell_type": "code",
      "source": [
        "model.save('fm_Part2_cnn.keras')"
      ],
      "metadata": {
        "id": "4LfuzgZVYoy8"
      },
      "execution_count": null,
      "outputs": []
    },
    {
      "cell_type": "code",
      "source": [
        "loss, acc = model.evaluate(test_generator, steps=STEP_SIZE_TEST)\n",
        "print(\"The accuracy of the model is {:.3f}\\nThe loss in the model is {:.3f}\".format(acc,loss))"
      ],
      "metadata": {
        "colab": {
          "base_uri": "https://localhost:8080/"
        },
        "id": "WCCSqG2uYxkY",
        "outputId": "16de57d5-086d-4f93-fb7f-2187e9ffcde7"
      },
      "execution_count": null,
      "outputs": [
        {
          "output_type": "stream",
          "name": "stdout",
          "text": [
            "41/41 [==============================] - 387s 10s/step - loss: 0.0602 - accuracy: 0.9827\n",
            "The accuracy of the model is 0.983\n",
            "The loss in the model is 0.060\n"
          ]
        }
      ]
    },
    {
      "cell_type": "code",
      "source": [
        "import numpy as np\n",
        "from sklearn.metrics import classification_report, confusion_matrix"
      ],
      "metadata": {
        "id": "6RvTfO3IY00m"
      },
      "execution_count": null,
      "outputs": []
    },
    {
      "cell_type": "code",
      "source": [
        "preds= model.predict(test_generator)\n",
        "y_pred= np.argmax(preds, axis = 1)\n",
        "y_actual = test_generator.classes\n",
        "cm = confusion_matrix(y_actual, y_pred)\n",
        "print(cm)"
      ],
      "metadata": {
        "colab": {
          "base_uri": "https://localhost:8080/"
        },
        "id": "g_zqn9NDY3Ev",
        "outputId": "105d6cdc-6e4f-40e9-db2f-3f13c441d667"
      },
      "execution_count": null,
      "outputs": [
        {
          "output_type": "stream",
          "name": "stdout",
          "text": [
            "42/42 [==============================] - 9s 206ms/step\n",
            "[[470  13]\n",
            " [  5 504]]\n"
          ]
        }
      ]
    },
    {
      "cell_type": "code",
      "source": [
        "labels = ['withMask', 'withoutMask']\n",
        "print(classification_report(y_actual, y_pred, target_names=labels))"
      ],
      "metadata": {
        "colab": {
          "base_uri": "https://localhost:8080/"
        },
        "id": "5BqjXOQ7ZCK3",
        "outputId": "56905f87-e2d0-481f-fbb5-cb67b5c8f46c"
      },
      "execution_count": null,
      "outputs": [
        {
          "output_type": "stream",
          "name": "stdout",
          "text": [
            "              precision    recall  f1-score   support\n",
            "\n",
            "    withMask       0.99      0.97      0.98       483\n",
            " withoutMask       0.97      0.99      0.98       509\n",
            "\n",
            "    accuracy                           0.98       992\n",
            "   macro avg       0.98      0.98      0.98       992\n",
            "weighted avg       0.98      0.98      0.98       992\n",
            "\n"
          ]
        }
      ]
    },
    {
      "cell_type": "code",
      "source": [],
      "metadata": {
        "id": "bkqFAg9sLjmh"
      },
      "execution_count": null,
      "outputs": []
    }
  ]
}